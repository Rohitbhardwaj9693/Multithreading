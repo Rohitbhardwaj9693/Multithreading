{
 "cells": [
  {
   "cell_type": "code",
   "execution_count": 1,
   "id": "65d01ca4-26df-447f-bf11-05bd6f70872b",
   "metadata": {},
   "outputs": [],
   "source": [
    "# What is multithreading in python ? why is it used ? Name the module used to\n",
    "# handle threads in pyton\n",
    "\n",
    "# Multithreading is a threading tecnique in python programing to run multiple \n",
    "# threds concurrently by rapidely switch between thread with a cpu help \n",
    "\n",
    "\n",
    "\n",
    "# Python multithreading enables efficient utilization of the resources as\n",
    "# the threads share the data space and memory\n",
    "\n",
    "# The Threading Module"
   ]
  },
  {
   "cell_type": "code",
   "execution_count": null,
   "id": "456df7eb-3702-4bc1-a50a-57b783e3cc9f",
   "metadata": {},
   "outputs": [],
   "source": []
  },
  {
   "cell_type": "code",
   "execution_count": 2,
   "id": "eed58421-1c68-4ac3-848b-83868bd95e49",
   "metadata": {},
   "outputs": [],
   "source": [
    "# why threadin module used? write the use of the following function\n",
    "\n",
    "# Python threading allows you to have different parts of your program \n",
    "# run concurrently and can simplify your design\n",
    "# Actuvecount\n",
    "# The activeCount() method of thread class is used to return the number of \n",
    "# active threads in the current thread's thread group\n",
    "\n",
    "# Currentthread\n",
    "# current_thread() is an inbuilt method of the threading module in Python.\n",
    "# It is used to return the current Thread object,\n",
    "\n",
    "\n",
    "# Enumerate()\n",
    "#  Enumerate() method adds a counter to an iterable and returns it in a \n",
    "#  form of enumerating object"
   ]
  },
  {
   "cell_type": "code",
   "execution_count": null,
   "id": "473784f5-645d-4f3f-b05e-c7d7a4b7b0e8",
   "metadata": {},
   "outputs": [],
   "source": []
  },
  {
   "cell_type": "code",
   "execution_count": 4,
   "id": "53fff2a3-e7c2-4ba8-b45b-744948c6c2c6",
   "metadata": {},
   "outputs": [],
   "source": [
    "# Explain the following function\n",
    "\n",
    "# 1.run()\n",
    "# 2.start()\n",
    "# 3.join()\n",
    "# 4.isAlive()\n",
    "\n",
    "# To run this python script, Right click and select 'RunFile in Python\n",
    "# Console' option. This will open a consolebox at the bottom and show the \n",
    " \n",
    "    \n",
    "# Summary only difference between the start() and run() method in \n",
    "# Thread is that start creates a new thread while the run doesn't \n",
    "# create any thread and simply executes in the current thread like \n",
    "# a normal method call.\n",
    "\n",
    "\n",
    "\n",
    "# The join() method takes all items in an iterable and joins them into\n",
    "# one string. A string must be specified as the separator\n",
    "\n",
    "\n",
    "\n",
    "# The join() method takes all items in an iterable and joins them into\n",
    "# one string. A string must be specified as the separator"
   ]
  },
  {
   "cell_type": "code",
   "execution_count": null,
   "id": "4a47bdbe-6ea4-4699-9319-df92dd58e14e",
   "metadata": {},
   "outputs": [],
   "source": []
  },
  {
   "cell_type": "code",
   "execution_count": 5,
   "id": "41eab71d-0862-42e5-8137-3902f977b83c",
   "metadata": {},
   "outputs": [],
   "source": [
    "# state advantage and disadvantage of multithreading\n",
    "# Advantage\n",
    "# Improved performance: Multithreading can help increase the overall performance\n",
    "# of an application, especially on systems with multiple processors or cores. \n",
    "# It allows multiple tasks to run concurrently, \n",
    "# utilizing the available CPU resources more efficiently.\n",
    "\n",
    "# Disadvantage\n",
    "# omplexity: Multithreading adds complexity to the program, making it\n",
    "# more difficult to design, implement, and debug. \n",
    "# Developers need to be aware of synchronization, deadlocks, race \n",
    "# conditions, and other concurrency-related issues."
   ]
  },
  {
   "cell_type": "code",
   "execution_count": null,
   "id": "6ad0d0fa-b25d-4e53-a2fc-f860baf97dcd",
   "metadata": {},
   "outputs": [],
   "source": []
  },
  {
   "cell_type": "code",
   "execution_count": 6,
   "id": "c861d312-83c6-4f1f-8ad1-413e784377ac",
   "metadata": {},
   "outputs": [],
   "source": [
    "# Explain deadkock and race condition\n",
    "# A race condition occurs when two threads use the same variable at a given\n",
    "# time.\n",
    "\n",
    "#  Deadlock exists when two threads seek one lock simultaneously"
   ]
  },
  {
   "cell_type": "code",
   "execution_count": null,
   "id": "429f8a38-ed26-45ba-92a7-149002826bde",
   "metadata": {},
   "outputs": [],
   "source": []
  },
  {
   "cell_type": "code",
   "execution_count": null,
   "id": "754f56a2-5ec4-48b7-ac5a-736ca29586d9",
   "metadata": {},
   "outputs": [],
   "source": [
    "# 4. rite a python program to create two threads. Thread one must \n",
    "# print the list of squares and thread two must print the list of cubes"
   ]
  }
 ],
 "metadata": {
  "kernelspec": {
   "display_name": "Python 3 (ipykernel)",
   "language": "python",
   "name": "python3"
  },
  "language_info": {
   "codemirror_mode": {
    "name": "ipython",
    "version": 3
   },
   "file_extension": ".py",
   "mimetype": "text/x-python",
   "name": "python",
   "nbconvert_exporter": "python",
   "pygments_lexer": "ipython3",
   "version": "3.10.8"
  }
 },
 "nbformat": 4,
 "nbformat_minor": 5
}
